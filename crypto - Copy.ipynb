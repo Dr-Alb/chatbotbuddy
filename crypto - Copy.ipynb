{
  "nbformat": 4,
  "nbformat_minor": 0,
  "metadata": {
    "colab": {
      "provenance": []
    },
    "kernelspec": {
      "name": "python3",
      "display_name": "Python 3"
    },
    "language_info": {
      "name": "python"
    }
  },
  "cells": [
    {
      "cell_type": "code",
      "execution_count": null,
      "metadata": {
        "id": "Sd_By3KEk_S1"
      },
      "outputs": [],
      "source": []
    },
    {
      "cell_type": "code",
      "source": [
        "\n",
        "\n",
        "# Step 1: Define Crypto Data\n",
        "crypto_db = {\n",
        "    \"Bitcoin\": {\n",
        "        \"price_trend\": \"rising\",\n",
        "        \"market_cap\": \"high\",\n",
        "        \"energy_use\": \"high\",\n",
        "        \"sustainability_score\": 3/10\n",
        "    },\n",
        "    \"Ethereum\": {\n",
        "        \"price_trend\": \"stable\",\n",
        "        \"market_cap\": \"high\",\n",
        "        \"energy_use\": \"medium\",\n",
        "        \"sustainability_score\": 6/10\n",
        "    },\n",
        "    \"Cardano\": {\n",
        "        \"price_trend\": \"rising\",\n",
        "        \"market_cap\": \"medium\",\n",
        "        \"energy_use\": \"low\",\n",
        "        \"sustainability_score\": 8/10\n",
        "    }\n",
        "}\n",
        "\n",
        "# Step 2: Define Chatbot Personality\n",
        "bot_name = \"CryptoBuddy\"\n",
        "print(f\"{bot_name}: Hey there! I’m {bot_name} 🤖💰 — your friendly guide to smart, sustainable crypto investing!\")\n",
        "\n",
        "# Step 3: Chat Loop\n",
        "while True:\n",
        "    user_query = input(\"You: \").lower()\n",
        "\n",
        "    if user_query in [\"bye\", \"exit\", \"quit\"]:\n",
        "        print(f\"{bot_name}: Goodbye! Stay smart and sustainable! 👋\")\n",
        "        break\n",
        "\n",
        "    elif \"sustainable\" in user_query:\n",
        "        recommend = max(crypto_db, key=lambda x: crypto_db[x][\"sustainability_score\"])\n",
        "        print(f\"{bot_name}: Invest in {recommend}! 🌱 It’s eco-friendly and has long-term potential!\")\n",
        "\n",
        "    elif \"trending\" in user_query or \"growth\" in user_query:\n",
        "        trending_coins = [coin for coin in crypto_db if crypto_db[coin][\"price_trend\"] == \"rising\"]\n",
        "        if trending_coins:\n",
        "            print(f\"{bot_name}: These coins are trending up: {', '.join(trending_coins)} 🚀\")\n",
        "        else:\n",
        "            print(f\"{bot_name}: Hmm, no coins are trending up at the moment.\")\n",
        "\n",
        "    elif \"long-term\" in user_query or \"which crypto\" in user_query:\n",
        "        found = False\n",
        "        for coin, data in crypto_db.items():\n",
        "            if data[\"price_trend\"] == \"rising\" and data[\"sustainability_score\"] > 0.7 and data[\"energy_use\"] == \"low\":\n",
        "                print(f\"{bot_name}: {coin} is trending up and super sustainable! Great for long-term growth. 🌟\")\n",
        "                found = True\n",
        "                break\n",
        "        if not found:\n",
        "            print(f\"{bot_name}: I couldn’t find a perfect match, but let’s keep checking the market!\")\n",
        "\n",
        "    else:\n",
        "        print(f\"{bot_name}: I’m still learning! Try asking about trending or sustainable cryptos.\")\n",
        "\n",
        "    # Disclaimer\n",
        "    print(\"⚠️ Crypto is risky — always do your own research before investing!\\n\")\n"
      ],
      "metadata": {
        "colab": {
          "base_uri": "https://localhost:8080/"
        },
        "id": "qg6XKVr3lCan",
        "outputId": "b8928b0d-4638-4278-e5a4-382891a6a893"
      },
      "execution_count": null,
      "outputs": [
        {
          "output_type": "stream",
          "name": "stdout",
          "text": [
            "CryptoBuddy: Hey there! I’m CryptoBuddy 🤖💰 — your friendly guide to smart, sustainable crypto investing!\n",
            "You:  Which crypto should I buy for long-term growth?   \n",
            "CryptoBuddy: These coins are trending up: Bitcoin, Cardano 🚀\n",
            "⚠️ Crypto is risky — always do your own research before investing!\n",
            "\n"
          ]
        }
      ]
    }
  ]
}